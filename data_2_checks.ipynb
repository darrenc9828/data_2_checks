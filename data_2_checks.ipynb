{
 "cells": [
  {
   "cell_type": "code",
   "execution_count": 1,
   "metadata": {},
   "outputs": [],
   "source": [
    "import requests\n",
    "import pandas as pd\n"
   ]
  },
  {
   "cell_type": "code",
   "execution_count": 28,
   "metadata": {},
   "outputs": [],
   "source": [
    "url = 'https://api.openbrewerydb.org/breweries?by_city=cincinnati&per_page=3'\n",
    "r = requests.get(url)\n",
    "\n"
   ]
  },
  {
   "cell_type": "code",
   "execution_count": 29,
   "metadata": {},
   "outputs": [
    {
     "name": "stdout",
     "output_type": "stream",
     "text": [
      "[{'id': '13-below-brewery-cincinnati', 'name': '13 Below Brewery', 'brewery_type': 'micro', 'street': '7391 Forbes Rd', 'address_2': None, 'address_3': None, 'city': 'Cincinnati', 'state': 'Ohio', 'county_province': None, 'postal_code': '45233-1013', 'country': 'United States', 'longitude': '-84.70634815', 'latitude': '39.12639764', 'phone': '5139750613', 'website_url': 'http://www.13belowbrewery.com', 'updated_at': '2022-08-20T02:56:08.975Z', 'created_at': '2022-08-20T02:56:08.975Z'}, {'id': 'bad-tom-smith-brewing-cincinnati', 'name': 'Bad Tom Smith Brewing', 'brewery_type': 'micro', 'street': '4720 Eastern Ave', 'address_2': None, 'address_3': None, 'city': 'Cincinnati', 'state': 'Ohio', 'county_province': None, 'postal_code': '45226-1893', 'country': 'United States', 'longitude': '-84.41803086', 'latitude': '39.11995755', 'phone': '5138714677', 'website_url': 'http://www.badtomsmithbrewing.com', 'updated_at': '2022-08-20T02:56:08.975Z', 'created_at': '2022-08-20T02:56:08.975Z'}, {'id': 'big-ash-brewing-company-cincinnati', 'name': 'Big Ash Brewing Company', 'brewery_type': 'planning', 'street': None, 'address_2': None, 'address_3': None, 'city': 'Cincinnati', 'state': 'Ohio', 'county_province': None, 'postal_code': '45244-3244', 'country': 'United States', 'longitude': None, 'latitude': None, 'phone': '5133079688', 'website_url': 'http://www.BigAshBrewing.com', 'updated_at': '2022-08-20T02:56:08.975Z', 'created_at': '2022-08-20T02:56:08.975Z'}]\n"
     ]
    }
   ],
   "source": [
    "json = r.json()\n",
    "print (json)"
   ]
  },
  {
   "cell_type": "code",
   "execution_count": 30,
   "metadata": {},
   "outputs": [
    {
     "name": "stdout",
     "output_type": "stream",
     "text": [
      "                                   id                     name brewery_type  \\\n",
      "0         13-below-brewery-cincinnati         13 Below Brewery        micro   \n",
      "1    bad-tom-smith-brewing-cincinnati    Bad Tom Smith Brewing        micro   \n",
      "2  big-ash-brewing-company-cincinnati  Big Ash Brewing Company     planning   \n",
      "\n",
      "             street address_2 address_3        city state county_province  \\\n",
      "0    7391 Forbes Rd      None      None  Cincinnati  Ohio            None   \n",
      "1  4720 Eastern Ave      None      None  Cincinnati  Ohio            None   \n",
      "2              None      None      None  Cincinnati  Ohio            None   \n",
      "\n",
      "  postal_code        country     longitude     latitude       phone  \\\n",
      "0  45233-1013  United States  -84.70634815  39.12639764  5139750613   \n",
      "1  45226-1893  United States  -84.41803086  39.11995755  5138714677   \n",
      "2  45244-3244  United States          None         None  5133079688   \n",
      "\n",
      "                         website_url                updated_at  \\\n",
      "0      http://www.13belowbrewery.com  2022-08-20T02:56:08.975Z   \n",
      "1  http://www.badtomsmithbrewing.com  2022-08-20T02:56:08.975Z   \n",
      "2       http://www.BigAshBrewing.com  2022-08-20T02:56:08.975Z   \n",
      "\n",
      "                 created_at  \n",
      "0  2022-08-20T02:56:08.975Z  \n",
      "1  2022-08-20T02:56:08.975Z  \n",
      "2  2022-08-20T02:56:08.975Z  \n"
     ]
    }
   ],
   "source": [
    "df = pd.DataFrame(json)\n",
    "print(df)\n"
   ]
  }
 ],
 "metadata": {
  "kernelspec": {
   "display_name": "Python 3.10.4 64-bit",
   "language": "python",
   "name": "python3"
  },
  "language_info": {
   "codemirror_mode": {
    "name": "ipython",
    "version": 3
   },
   "file_extension": ".py",
   "mimetype": "text/x-python",
   "name": "python",
   "nbconvert_exporter": "python",
   "pygments_lexer": "ipython3",
   "version": "3.10.4"
  },
  "orig_nbformat": 4,
  "vscode": {
   "interpreter": {
    "hash": "f1510b3a92008b3f5070fd021fb191c959973f7530ec2caf7a69a1c32cf53c3e"
   }
  }
 },
 "nbformat": 4,
 "nbformat_minor": 2
}
